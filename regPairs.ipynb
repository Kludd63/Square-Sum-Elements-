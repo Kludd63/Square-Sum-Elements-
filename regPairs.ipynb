{
 "cells": [
  {
   "cell_type": "code",
   "execution_count": 13,
   "metadata": {
    "vscode": {
     "languageId": "sage"
    }
   },
   "outputs": [],
   "source": [
    "from sage.graphs.generic_graph_pyx import find_hamiltonian as fh\n",
    "import math\n",
    "import copy\n",
    "\n",
    "\n",
    "\n",
    "#this file contains the code used to find and compile 'nice' pairs using the sagemath find_hamiltonian function\n",
    "#the function generates functional paths at random, so results may vary from the provided 25PairsText and 49PairsText files"
   ]
  },
  {
   "cell_type": "code",
   "execution_count": 14,
   "metadata": {
    "vscode": {
     "languageId": "sage"
    }
   },
   "outputs": [],
   "source": [
    "#function to find a nice pair when n is odd\n",
    "def findPairO(n,c):\n",
    "    #G is a dictionary of vertices with all of their edges, 0 is included from the beginning to force a path from the start point to the end point through 0\n",
    "    #the end point for an odd n is 3 for pairs used in both 25 and 49 proofs\n",
    "    G = {0:[1,3]}\n",
    "\n",
    "    #function to create all of the edges for a given vertex and add them to the dictionary\n",
    "    for x4 in range(1, n+1, 1):\n",
    "        v =[]\n",
    "        for j4 in range(1, n+1, 1):\n",
    "            if Integer((x4+j4)).is_square() == True and j4 != x4:\n",
    "                v.append(j4)\n",
    "\n",
    "        G[x4]=v\n",
    "    \n",
    "    #sagemath functions to convert G to a Graph object, and find a Hamiltonian cycle of said path \n",
    "    g=Graph(G)\n",
    "    N0=fh(g,find_path=false)\n",
    "\n",
    "\n",
    "    #split the output of the previous functions into the numbers in odd and even positions\n",
    "    o =[]\n",
    "    e =[]\n",
    "    for d2 in N0[1]:\n",
    "        if d2!=0:\n",
    "            if N0[1].index(d2) %2==0:\n",
    "                e.append(d2)\n",
    "            else:\n",
    "                o.append(d2)\n",
    "    #add the next number after n to the even sequence, indicating a change from odd length to even length \n",
    "    e.append(n+1)\n",
    "    #create another vertex dictionary, with start point 1 and endpoint 2 for 25 pairs, use 8 for 49 pairs\n",
    "    G2 = {0:[1,2]}\n",
    "    #a pair of functions to create a bipartite graph to ensue parity of numbers \n",
    "    for x5 in e:\n",
    "        v =[]\n",
    "        for j5 in o:\n",
    "            if Integer((x5+j5)).is_square() == True and j5 != x5:\n",
    "                v.append(j5)\n",
    "\n",
    "        G2[x5]=v\n",
    "\n",
    "    for x6 in o:\n",
    "        v =[]\n",
    "        for j6 in e:\n",
    "            if Integer((x6+j6)).is_square() == True and j6 != x6:\n",
    "                v.append(j6)\n",
    "\n",
    "        G2[x6]=v\n",
    "    #check the two points that might have less than degree 2, which would force the fh function to take infinite time\n",
    "    #and also indicates lack of a possible cycle\n",
    "    if len(G2[n+1]) <2 or len(G2[3]) <2:\n",
    "        while c < 1000:\n",
    "            \n",
    "            return findPairO(n,c+1)\n",
    "            \n",
    "    #draw the second graph and find its hamiltonian if one exists\n",
    "    g2 =Graph(G2)\n",
    "    N1 =fh(g2,find_path=false)\n",
    "    #exceptions to loop the function again if it didn't find one the first time. cuts off after 1000 tries\n",
    "    if c==1000:\n",
    "        return \"c >= 1000\"\n",
    "    if N1[0] == False or N0 == False:\n",
    "        return findPairO(n, c+1)\n",
    "    #returns a tuple of two successful lists forming a 'nice' pair\n",
    "    return (N0[1], N1[1])"
   ]
  },
  {
   "cell_type": "code",
   "execution_count": 15,
   "metadata": {
    "vscode": {
     "languageId": "sage"
    }
   },
   "outputs": [],
   "source": [
    "#this function is identical to the function above, but is used to find the pair when n is even \n",
    "#comments on this function indicate differences to above code\n",
    "def findPairE(n,c):\n",
    "    #start with 0 connected to the star point and the even end point, 2 for 25, 8 for 49\n",
    "    G = {0:[1,2]}\n",
    "    for x1 in range(1, n+1, 1):\n",
    "        v =[]\n",
    "        for j1 in range(1, n+1, 1):\n",
    "            if Integer((x1+j1)).is_square() == True and j1 != x1:\n",
    "                v.append(j1)\n",
    "\n",
    "        G[x1]=v\n",
    "    \n",
    "    g=Graph(G)\n",
    "    N0=fh(g,find_path=false)\n",
    "\n",
    "\n",
    "\n",
    "    o =[]\n",
    "    e =[]\n",
    "    for d in N0[1]:\n",
    "        if d!=0:\n",
    "            if N0[1].index(d) %2==0:\n",
    "                e.append(d)\n",
    "            else:\n",
    "                o.append(d)\n",
    "    #add the next number in sequence to the odd side, indicateing the next sequence is odd\n",
    "    o.append(n+1)\n",
    "    #use the odd endpoint here \n",
    "    G2 = {0:[1,3]}\n",
    "    for x2 in e:\n",
    "        v =[]\n",
    "        for j2 in o:\n",
    "            if Integer((x2+j2)).is_square() == True and j2 != x2:\n",
    "                v.append(j2)\n",
    "\n",
    "        G2[x2]=v\n",
    "\n",
    "    for x3 in o:\n",
    "        v =[]\n",
    "        for j3 in e:\n",
    "            if Integer((x3+j3)).is_square() == True and j3 != x2:\n",
    "                v.append(j3)\n",
    "\n",
    "        G2[x3]=v\n",
    "    for i in range(n+2):\n",
    "        if len(G2[i]) <2:\n",
    "            while c < 1000:\n",
    "                return findPairE(n,c+1)\n",
    "            \n",
    "\n",
    "    g2 =Graph(G2)\n",
    "    N1 =fh(g2,find_path=false)\n",
    "    if c==1000:\n",
    "        return \"c >= 1000\"\n",
    "    if N1[0] == False or N0 == False:\n",
    "        return findPairE(n, c+1)\n",
    "    return (N0[1], N1[1])"
   ]
  },
  {
   "cell_type": "code",
   "execution_count": 16,
   "metadata": {
    "vscode": {
     "languageId": "sage"
    }
   },
   "outputs": [],
   "source": [
    "#function to sort the tuple output from the findPair functions into the format \n",
    "#  n:[sequence for n]\n",
    "#    [sequence for n+1]\n",
    "#given S1 and S2  where both sequences start with S1 and end with S2, S2 in this case is our connecting vertex 0\n",
    "def sortPair(P:tuple,S1:int, S2:int):\n",
    "    #format tuple into a sepreated pair of strings\n",
    "    F1 =[]\n",
    "    F2 =[]\n",
    "    c = 1\n",
    "    for p in P:\n",
    "\n",
    "        if c == 1:\n",
    "            P1 = p\n",
    "            c+=1\n",
    "        elif c == 2:\n",
    "            P2 =p\n",
    "            c+=1\n",
    "\n",
    "    #find the start point, assess which direction to read the list, and read it that direction\n",
    "    for n in P1:\n",
    "        if n > c:\n",
    "            c = n\n",
    "        if n == S1:\n",
    "            if P1[P1.index(n)-1] == S2:\n",
    "                for i in range(P1.index(n), len(P1)):\n",
    "                    F1.append(P1[i])\n",
    "                for i in range(0, P1.index(n)):\n",
    "                    F1.append(P1[i])\n",
    "            else: \n",
    "                for i in range(P1.index(n), -1, -1):\n",
    "                    F1.append(P1[i])\n",
    "                for i in range(len(P1)-1, P1.index(n), -1):\n",
    "                    F1.append(P1[i])\n",
    "\n",
    "    #same thing for second sequence\n",
    "    for n in P2:\n",
    "        if n == S1:\n",
    "            if P2[P2.index(n)-1] == S2:\n",
    "                for i in range(P2.index(n), len(P2)):\n",
    "                    F2.append(P2[i])\n",
    "                for i in range(0, P2.index(n)):\n",
    "                    F2.append(P2[i])\n",
    "            else:\n",
    "                for i in range(P2.index(n), -1, -1):\n",
    "                    F2.append(P2[i])\n",
    "                for i in range(len(P2)-1, P2.index(n), -1):\n",
    "                    F2.append(P2[i])\n",
    "    #remove the connecting point of 0\n",
    "    F1.remove(0)\n",
    "    F2.remove(0)\n",
    "    return f'{c}:{F1},\\n{F2},\\n'\n"
   ]
  },
  {
   "cell_type": "code",
   "execution_count": 17,
   "metadata": {
    "vscode": {
     "languageId": "sage"
    }
   },
   "outputs": [],
   "source": [
    "#function to print all of the base pairs for the 25 case, remember to change the end points in the function\n",
    "for n in range(41, 1063):\n",
    "    if n%2 ==1:\n",
    "        print(sortPair(findPairO(n,0),1,0))\n",
    "    elif n%2 ==0:\n",
    "        print(sortPair(findPairE(n,0),1,0))"
   ]
  },
  {
   "cell_type": "code",
   "execution_count": 18,
   "metadata": {
    "vscode": {
     "languageId": "sage"
    }
   },
   "outputs": [],
   "source": [
    "#function to print all of the base pairs for the 49 case\n",
    "\n",
    "#for n in range(41, 2033):\n",
    "#    if n%2 ==1:\n",
    "#        print(sortPair(findPairO(n,0), 1, 0))\n",
    "#    elif n%2 ==0:\n",
    "#        print(sortPair(findPairE(n,0), 1, 0))\n"
   ]
  }
 ],
 "metadata": {
  "kernelspec": {
   "display_name": "SageMath 9.5",
   "language": "sage",
   "name": "sagemath-soren"
  },
  "language_info": {
   "codemirror_mode": {
    "name": "ipython",
    "version": 3
   },
   "file_extension": ".py",
   "mimetype": "text/x-python",
   "name": "python",
   "nbconvert_exporter": "python",
   "pygments_lexer": "ipython3",
   "version": "3.10.12"
  }
 },
 "nbformat": 4,
 "nbformat_minor": 2
}
